{
 "cells": [
  {
   "cell_type": "markdown",
   "metadata": {},
   "source": [
    "# Pertemuan 3"
   ]
  },
  {
   "cell_type": "markdown",
   "metadata": {},
   "source": [
    "# Input/Output"
   ]
  },
  {
   "cell_type": "code",
   "execution_count": 28,
   "metadata": {},
   "outputs": [
    {
     "name": "stdout",
     "output_type": "stream",
     "text": [
      "Halo, Amrina\n",
      "Umur Anda: 18\n",
      "Ipk Anda: 3.53\n"
     ]
    }
   ],
   "source": [
    "# Contoh Input String\n",
    "nama = input(\"Masukkan nama Anda:\")\n",
    "print(\"Halo,\",nama)\n",
    "\n",
    "# Contoh Input Integer\n",
    "umur = int(input(\"Masukkan umur:\"))\n",
    "print(\"Umur Anda:\", umur)\n",
    "\n",
    "# Contoh Input Float\n",
    "ipk = float(input(\"Masukkan ipk:\"))\n",
    "print(\"Ipk Anda:\", ipk)\n"
   ]
  },
  {
   "cell_type": "markdown",
   "metadata": {},
   "source": [
    "# Contoh Input Yang di Pisahkan Spasi"
   ]
  },
  {
   "cell_type": "code",
   "execution_count": 29,
   "metadata": {},
   "outputs": [
    {
     "name": "stdout",
     "output_type": "stream",
     "text": [
      "Bilangan pertama: 1\n",
      "Bilangan kedua: 2\n"
     ]
    }
   ],
   "source": [
    "bil = input(\"Masukkan dua bilangan bulat dipisahkan oleh spasi: \")\n",
    "# Membagi variable bil menjadi variable bil1 dan bil2\n",
    "bil1, bil2 = map(int, bil.split())\n",
    "print(\"Bilangan pertama:\", bil1)\n",
    "print(\"Bilangan kedua:\", bil2)"
   ]
  },
  {
   "cell_type": "markdown",
   "metadata": {},
   "source": [
    "# Macam-Macam Jenis Output Pada Python"
   ]
  },
  {
   "cell_type": "code",
   "execution_count": 30,
   "metadata": {},
   "outputs": [
    {
     "name": "stdout",
     "output_type": "stream",
     "text": [
      "Hallo Amrina Umur anda: 18 IPK anda: 3.53\n",
      "Hallo Amrina, Umur anda: 18 IPK anda: 3.53\n",
      "Hallo Amrina, Umur anda: 18, IPK anda: 3.53\n",
      "Hallo Amrina, Umur anda: 18, IPK anda: 3.53\n"
     ]
    }
   ],
   "source": [
    "print(\"Hallo\", nama, \"Umur anda:\", umur, \"IPK anda:\", ipk)\n",
    "print(\"Hallo \"+ nama+  \", Umur anda:\", umur, \"IPK anda:\", ipk)\n",
    "print(\"Hallo %s, Umur anda: %i, IPK anda: %.2f\" % (nama, umur, ipk))\n",
    "print(f\"Hallo {nama}, Umur anda: {umur}, IPK anda: {ipk}\")"
   ]
  },
  {
   "cell_type": "markdown",
   "metadata": {},
   "source": [
    "# Struktur Runtunan"
   ]
  },
  {
   "cell_type": "markdown",
   "metadata": {},
   "source": [
    "# Contoh Menghitung Luas dan Keliling Lingkaran"
   ]
  },
  {
   "cell_type": "code",
   "execution_count": 33,
   "metadata": {},
   "outputs": [
    {
     "name": "stdout",
     "output_type": "stream",
     "text": [
      "pi = 3.14\n",
      "jari-jari = 6\n",
      "Luas lingkaran = 113.14\n"
     ]
    }
   ],
   "source": [
    "# Input\n",
    "pi = 22/7\n",
    "r = int(input(\"jari-jari = \"))\n",
    "\n",
    "# Proses menghitung luas lingkaran\n",
    "luas = pi * r * r\n",
    "\n",
    "# Output luas linngkaran\n",
    "print(\"pi = %.2f\" %pi)\n",
    "print(\"jari-jari =\", r)\n",
    "print(\"Luas lingkaran = %.2f\" %(luas))"
   ]
  }
 ],
 "metadata": {
  "kernelspec": {
   "display_name": "Python 3",
   "language": "python",
   "name": "python3"
  },
  "language_info": {
   "codemirror_mode": {
    "name": "ipython",
    "version": 3
   },
   "file_extension": ".py",
   "mimetype": "text/x-python",
   "name": "python",
   "nbconvert_exporter": "python",
   "pygments_lexer": "ipython3",
   "version": "3.12.2"
  }
 },
 "nbformat": 4,
 "nbformat_minor": 2
}
